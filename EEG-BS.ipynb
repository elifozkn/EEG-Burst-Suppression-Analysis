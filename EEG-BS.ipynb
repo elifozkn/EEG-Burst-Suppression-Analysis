{
 "cells": [
  {
   "cell_type": "code",
   "execution_count": null,
   "metadata": {},
   "outputs": [],
   "source": [
    "import pandas as pd\n",
    "import scipy.io\n",
    "import glob\n",
    "import numpy as np \n",
    "import mne "
   ]
  },
  {
   "cell_type": "code",
   "execution_count": null,
   "metadata": {},
   "outputs": [],
   "source": [
    "# read the excel files just in case \n",
    "patients_data = pd.read_csv(\"3-June2022/Alle_patienten_250Hz.csv\")\n",
    "patients_data1 = pd.read_csv(\"3-June2022/Alle_patienten_256Hz.csv\")"
   ]
  },
  {
   "cell_type": "code",
   "execution_count": null,
   "metadata": {},
   "outputs": [],
   "source": [
    "patients_data = patients_data.rename(columns = {\"Burstsupressie (ja/nee)\" : \"BS\",\n",
    "                                                \"Nummer\" : \"ID\"})\n",
    "patients_data = patients_data.dropna(subset = [\"ID\"])\n",
    "patients_data = patients_data.astype({\"ID\" : int})\n",
    "patients_data"
   ]
  },
  {
   "cell_type": "code",
   "execution_count": null,
   "metadata": {},
   "outputs": [],
   "source": [
    "patients_data1 = patients_data1.rename(columns = {\"Burstsupressie (ja/nee)\" : \"BS\",\n",
    "                                                \"Nummer\" : \"ID\"})\n",
    "patients_df = pd.concat([patients_data, patients_data1])\n",
    "patients_df = patients_df.drop([\"file code\"], axis = 1)"
   ]
  },
  {
   "cell_type": "code",
   "execution_count": null,
   "metadata": {},
   "outputs": [],
   "source": [
    "not_annoted = patients_df[patients_df[\"BS\"].isna()]\n",
    "not_annoted"
   ]
  },
  {
   "cell_type": "code",
   "execution_count": null,
   "metadata": {},
   "outputs": [],
   "source": [
    "annotated_patients = patients_df[patients_df['BS'].notna()]\n",
    "annotated_patients"
   ]
  },
  {
   "cell_type": "code",
   "execution_count": null,
   "metadata": {},
   "outputs": [],
   "source": [
    "patients = glob.glob(\"3-June2022/*.mat\")\n",
    "len(patients)"
   ]
  },
  {
   "cell_type": "code",
   "execution_count": null,
   "metadata": {},
   "outputs": [],
   "source": [
    "# necessary information taken from the data in order to create MNE objects. \n",
    "channelLabels = [\"Fp1\", \"Fp2\", \"F7\", \"F3\", \"Fz\", \"F4\", \"F8\",\n",
    "                \"A1\", \"T3\", \"C3\", \"Cz\", \"C4\", \"T4\", \"A2\", \"T5\", \n",
    "                \"P3\", \"Pz\", \"P4\", 'T6', '01', '02', 'ECG']\n",
    "trials = 1 \n",
    "n_channels = 22\n",
    "sampling_frequency = 250\n",
    "ch_types = ['eeg'] * (n_channels-3)\n",
    "ch_types.append('misc')\n",
    "ch_types.append('misc')\n",
    "ch_types.append('ecg')"
   ]
  },
  {
   "cell_type": "code",
   "execution_count": null,
   "metadata": {},
   "outputs": [],
   "source": [
    "def define_montage(type):\n",
    "    '''method that helps us define the channel locations '''\n",
    "\n",
    "    # Form the 10-20 montage 'standard_1020'\n",
    "    mont1020 = mne.channels.make_standard_montage(type)\n",
    "    # Choose what channels you want to keep \n",
    "    # Make sure that these channels exist e.g. T1 does not exist in the standard 10-20 EEG system!\n",
    "    kept_channels = [\"Fp1\", \"Fp2\", \"F7\", \"F3\", \"Fz\", \"F4\", \"F8\",\n",
    "                \"A1\", \"T3\", \"C3\", \"Cz\", \"C4\", \"T4\", \"A2\", \"T5\", \n",
    "                \"P3\", \"Pz\", \"P4\", 'T6']\n",
    "    ind = [i for (i, channel) in enumerate(mont1020.ch_names) if channel in kept_channels]\n",
    "    mont1020_new = mont1020.copy()\n",
    "    # Keep only the desired channels\n",
    "    mont1020_new.ch_names = [mont1020.ch_names[x] for x in ind]\n",
    "    kept_channel_info = [mont1020.dig[x+3] for x in ind]\n",
    "    # Keep the first three rows as they are the fiducial points information\n",
    "    mont1020_new.dig = mont1020.dig[0:3]+kept_channel_info\n",
    "    \n",
    "    #mont1020.plot()\n",
    "    #mont1020_new.plot()\n",
    "    \n",
    "    return mont1020_new\n",
    "\n"
   ]
  },
  {
   "cell_type": "code",
   "execution_count": null,
   "metadata": {},
   "outputs": [],
   "source": [
    "def create_MNE_objects(patient_list,channelLabels,n_channels,sampling_frequency,phase,types): \n",
    "    evoked_arrays = []\n",
    "    for i in range(0,len(patient_list)): \n",
    "        patient = scipy.io.loadmat(patient_list[i])\n",
    "        samples = patient[phase][\"data\"][0][0]\n",
    "        \n",
    "        info = mne.create_info(\n",
    "        ch_names = channelLabels, \n",
    "        ch_types = types,\n",
    "        sfreq = sampling_frequency)\n",
    "        \n",
    "        info.set_montage(define_montage('standard_1020'))\n",
    "        evoked_array = mne.EvokedArray(samples, info,\n",
    "                               nave=samples.shape[0], comment=('patient' + str(i)))\n",
    "        evoked_arrays.append(evoked_array)\n",
    "    return evoked_arrays"
   ]
  },
  {
   "cell_type": "code",
   "execution_count": null,
   "metadata": {},
   "outputs": [],
   "source": [
    "eeg_InDia = create_MNE_objects(patients, channelLabels, n_channels, sampling_frequency,\"EEG_INDIA\",ch_types)\n",
    "eeg_PreOK = create_MNE_objects(patients, channelLabels, n_channels, sampling_frequency, \"EEG_PreOK\",ch_types)\n",
    "eeg_Klem = create_MNE_objects(patients, channelLabels, n_channels, sampling_frequency, \"EEG_Klem\",ch_types)"
   ]
  },
  {
   "cell_type": "markdown",
   "metadata": {},
   "source": []
  },
  {
   "cell_type": "code",
   "execution_count": null,
   "metadata": {},
   "outputs": [],
   "source": [
    "#for i in range (5,10): \n",
    " #   eeg_InDia[i].plot(spatial_colors=True)"
   ]
  }
 ],
 "metadata": {
  "language_info": {
   "name": "python"
  },
  "orig_nbformat": 4
 },
 "nbformat": 4,
 "nbformat_minor": 2
}
